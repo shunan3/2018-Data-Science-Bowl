{
 "cells": [
  {
   "cell_type": "code",
   "execution_count": 1,
   "metadata": {},
   "outputs": [],
   "source": [
    "import os\n",
    "import numpy as np\n",
    "import pandas as pd\n",
    "import matplotlib.pyplot as plt\n",
    "from tqdm import tqdm\n",
    "\n",
    "\n",
    "\n",
    "from torchvision import transforms as tsf\n",
    "\n",
    "TRAIN_PATH = './'\n",
    "TEST_PATH = './test.tph'\n",
    "%matplotlib inline"
   ]
  },
  {
   "cell_type": "code",
   "execution_count": 3,
   "metadata": {},
   "outputs": [
    {
     "name": "stderr",
     "output_type": "stream",
     "text": [
      "100%|██████████| 65/65 [00:01<00:00, 49.38it/s]\n",
      "100%|██████████| 670/670 [02:10<00:00,  5.15it/s]\n"
     ]
    }
   ],
   "source": [
    "import os\n",
    "from pathlib import Path\n",
    "from PIL import Image\n",
    "from skimage import io\n",
    "import numpy as np\n",
    "from tqdm import tqdm\n",
    "import torch as t\n",
    "\n",
    "\n",
    "def process(file_path, has_mask=True):\n",
    "    file_path = Path(file_path)\n",
    "    files = sorted(list(Path(file_path).iterdir()))\n",
    "    datas = []\n",
    "\n",
    "    for file in tqdm(files):\n",
    "        item = {}\n",
    "        imgs = []\n",
    "        for image in (file/'images').iterdir():\n",
    "            img = io.imread(image)\n",
    "            imgs.append(img)\n",
    "        assert len(imgs)==1\n",
    "        if img.shape[2]>3:\n",
    "            assert(img[:,:,3]!=255).sum()==0\n",
    "        img = img[:,:,:3]\n",
    "\n",
    "        if has_mask:\n",
    "            mask_files = list((file/'masks').iterdir())\n",
    "            masks = None\n",
    "            for ii,mask in enumerate(mask_files):\n",
    "                mask = io.imread(mask)\n",
    "                assert (mask[(mask!=0)]==255).all()\n",
    "                if masks is None:\n",
    "                    H,W = mask.shape\n",
    "                    masks = np.zeros((len(mask_files),H,W))\n",
    "                masks[ii] = mask\n",
    "            tmp_mask = masks.sum(0)\n",
    "            assert (tmp_mask[tmp_mask!=0] == 255).all()\n",
    "            for ii,mask in enumerate(masks):\n",
    "                masks[ii] = mask/255 * (ii+1)\n",
    "            mask = masks.sum(0)\n",
    "            item['mask'] = t.from_numpy(mask)\n",
    "        item['name'] = str(file).split('/')[-1]\n",
    "        item['img'] = t.from_numpy(img)\n",
    "        datas.append(item)\n",
    "    return datas\n",
    "\n",
    "# You can skip this if you have alreadly done it.\n",
    "test = process('./data/stage1_test/',False)\n",
    "train_data = process('./data/stage1_train/')\n",
    "# t.save(train_data, TRAIN_PATH)"
   ]
  },
  {
   "cell_type": "code",
   "execution_count": 10,
   "metadata": {},
   "outputs": [],
   "source": [
    "import PIL\n",
    "class Dataset():\n",
    "    def __init__(self,data,source_transform,target_transform):\n",
    "        self.datas = data\n",
    "#         self.datas = train_data\n",
    "        self.s_transform = source_transform\n",
    "        self.t_transform = target_transform\n",
    "    def __getitem__(self, index):\n",
    "        data = self.datas[index]\n",
    "        img = data['img'].numpy()\n",
    "        mask = data['mask'][:,:,None].byte().numpy()\n",
    "        \n",
    "        img = self.s_transform(img)\n",
    "        mask = self.t_transform(mask)\n",
    "        mask=mask>0\n",
    "        return img, mask\n",
    "    def __len__(self):\n",
    "        return len(self.datas)\n",
    "s_trans = tsf.Compose([\n",
    "    tsf.ToPILImage(),\n",
    "    tsf.Resize((128,128)),\n",
    "    tsf.ToTensor(),\n",
    "    tsf.Normalize(mean = [0.5,0.5,0.5],std = [0.5,0.5,0.5])\n",
    "]\n",
    ")\n",
    "t_trans = tsf.Compose([\n",
    "    tsf.ToPILImage(),\n",
    "    tsf.Resize((128,128),interpolation=PIL.Image.NEAREST),\n",
    "    tsf.ToTensor(),]\n",
    ")\n",
    "dataset = Dataset(train_data,s_trans,t_trans)\n",
    "dataloader = t.utils.data.DataLoader(dataset,num_workers=2,batch_size=4)"
   ]
  },
  {
   "cell_type": "code",
   "execution_count": 60,
   "metadata": {},
   "outputs": [
    {
     "data": {
      "image/png": "[encoded data removed]",
      "text/plain": [
       "<matplotlib.figure.Figure at 0x7efca0afc828>"
      ]
     },
     "metadata": {},
     "output_type": "display_data"
    }
   ],
   "source": [
    "img,mask = dataset[0]\n",
    "#mask = mask.numpy()\n",
    "bi=mask[0]>0\n",
    "#plt.subplot(121)\n",
    "#plt.imshow(bi, cmap=plt.cm.gray)\n",
    "#plt.subplot(122)\n",
    "#plt.imshow(mask[0],cmap=plt.cm.gray)\n",
    "for train, target in dataloader:\n",
    "    t1 = target\n",
    "    break\n",
    "\n",
    "\n",
    "def computeIoU(y_pred_batch, y_true_batch, threshold):\n",
    "    return np.mean(np.asarray([IoU(y_pred_batch[i], y_true_batch[i], threshold) for i in range(len(y_true_batch))])) \n",
    "\n",
    "def IoU(y_pred, y_true, threshold):\n",
    "    y_pred = y_pred.numpy()\n",
    "    y_true = y_true.numpy()\n",
    "    y_pred_tran = y_pred * (y_pred > threshold)\n",
    "    TP = np.sum((y_pred_tran==y_true)*(y_true>0))\n",
    "    FNFP = np.sum(y_pred_tran!=y_true)\n",
    "    return 1.0*TP/(TP+FNFP)\n",
    "\n",
    "def accuracy(y_pred_batch, y_true_batch):\n",
    "    thresholds = [0.5, 0.55, 0.6, 0.65, 0.7, 0.75, 0.8, 0.85, 0.9, 0.95]\n",
    "    total = 0.0\n",
    "    for threshold in thresholds:\n",
    "        total += computeIoU(y_pred_batch, y_true_batch, threshold)\n",
    "    return total*1.0 *10\n",
    "plt.imshow(target[0][0],cmap=plt.cm.gray)\n",
    "prec =accuracy(target,target)"
   ]
  },
  {
   "cell_type": "code",
   "execution_count": 66,
   "metadata": {},
   "outputs": [
    {
     "ename": "TypeError",
     "evalue": "list indices must be integers or slices, not str",
     "output_type": "error",
     "traceback": [
      "\u001b[0;31m---------------------------------------------------------------------------\u001b[0m",
      "\u001b[0;31mTypeError\u001b[0m                                 Traceback (most recent call last)",
      "\u001b[0;32m<ipython-input-66-3129bcec549e>\u001b[0m in \u001b[0;36m<module>\u001b[0;34m()\u001b[0m\n\u001b[0;32m----> 1\u001b[0;31m \u001b[0mdataset\u001b[0m\u001b[0;34m[\u001b[0m\u001b[0;34m'img'\u001b[0m\u001b[0;34m]\u001b[0m\u001b[0;34m\u001b[0m\u001b[0m\n\u001b[0m",
      "\u001b[0;32m<ipython-input-10-90ba9ea31da9>\u001b[0m in \u001b[0;36m__getitem__\u001b[0;34m(self, index)\u001b[0m\n\u001b[1;32m      7\u001b[0m         \u001b[0mself\u001b[0m\u001b[0;34m.\u001b[0m\u001b[0mt_transform\u001b[0m \u001b[0;34m=\u001b[0m \u001b[0mtarget_transform\u001b[0m\u001b[0;34m\u001b[0m\u001b[0m\n\u001b[1;32m      8\u001b[0m     \u001b[0;32mdef\u001b[0m \u001b[0m__getitem__\u001b[0m\u001b[0;34m(\u001b[0m\u001b[0mself\u001b[0m\u001b[0;34m,\u001b[0m \u001b[0mindex\u001b[0m\u001b[0;34m)\u001b[0m\u001b[0;34m:\u001b[0m\u001b[0;34m\u001b[0m\u001b[0m\n\u001b[0;32m----> 9\u001b[0;31m         \u001b[0mdata\u001b[0m \u001b[0;34m=\u001b[0m \u001b[0mself\u001b[0m\u001b[0;34m.\u001b[0m\u001b[0mdatas\u001b[0m\u001b[0;34m[\u001b[0m\u001b[0mindex\u001b[0m\u001b[0;34m]\u001b[0m\u001b[0;34m\u001b[0m\u001b[0m\n\u001b[0m\u001b[1;32m     10\u001b[0m         \u001b[0mimg\u001b[0m \u001b[0;34m=\u001b[0m \u001b[0mdata\u001b[0m\u001b[0;34m[\u001b[0m\u001b[0;34m'img'\u001b[0m\u001b[0;34m]\u001b[0m\u001b[0;34m.\u001b[0m\u001b[0mnumpy\u001b[0m\u001b[0;34m(\u001b[0m\u001b[0;34m)\u001b[0m\u001b[0;34m\u001b[0m\u001b[0m\n\u001b[1;32m     11\u001b[0m         \u001b[0mmask\u001b[0m \u001b[0;34m=\u001b[0m \u001b[0mdata\u001b[0m\u001b[0;34m[\u001b[0m\u001b[0;34m'mask'\u001b[0m\u001b[0;34m]\u001b[0m\u001b[0;34m[\u001b[0m\u001b[0;34m:\u001b[0m\u001b[0;34m,\u001b[0m\u001b[0;34m:\u001b[0m\u001b[0;34m,\u001b[0m\u001b[0;32mNone\u001b[0m\u001b[0;34m]\u001b[0m\u001b[0;34m.\u001b[0m\u001b[0mbyte\u001b[0m\u001b[0;34m(\u001b[0m\u001b[0;34m)\u001b[0m\u001b[0;34m.\u001b[0m\u001b[0mnumpy\u001b[0m\u001b[0;34m(\u001b[0m\u001b[0;34m)\u001b[0m\u001b[0;34m\u001b[0m\u001b[0m\n",
      "\u001b[0;31mTypeError\u001b[0m: list indices must be integers or slices, not str"
     ]
    }
   ],
   "source": [
    "dataset['img']"
   ]
  },
  {
   "cell_type": "code",
   "execution_count": null,
   "metadata": {},
   "outputs": [],
   "source": []
  }
 ],
 "metadata": {
  "kernelspec": {
   "display_name": "Python 3",
   "language": "python",
   "name": "python3"
  },
  "language_info": {
   "codemirror_mode": {
    "name": "ipython",
    "version": 3
   },
   "file_extension": ".py",
   "mimetype": "text/x-python",
   "name": "python",
   "nbconvert_exporter": "python",
   "pygments_lexer": "ipython3",
   "version": "3.6.4"
  }
 },
 "nbformat": 4,
 "nbformat_minor": 2
}
